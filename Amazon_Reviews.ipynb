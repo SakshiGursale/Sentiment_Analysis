{
 "cells": [
  {
   "cell_type": "markdown",
   "id": "65140f69",
   "metadata": {},
   "source": [
    "## Problem Statement"
   ]
  },
  {
   "cell_type": "markdown",
   "id": "871b1087",
   "metadata": {},
   "source": [
    "### Build a deep learning model to predict reviews_rating from only reviews_text "
   ]
  },
  {
   "cell_type": "code",
   "execution_count": 1,
   "id": "25d25989",
   "metadata": {},
   "outputs": [],
   "source": [
    "import numpy as np\n",
    "import pandas as pd\n",
    "from collections import Counter\n",
    "from langdetect import detect\n",
    "from googletrans import Translator\n",
    "import seaborn as sns\n",
    "import matplotlib.pyplot as plt\n",
    "from wordcloud import WordCloud\n",
    "from nltk.util import ngrams\n",
    "import warnings\n",
    "warnings.filterwarnings('ignore')\n",
    "from nltk.stem import WordNetLemmatizer,LancasterStemmer\n",
    "from nltk.corpus import stopwords\n",
    "from nltk.tokenize import word_tokenize,sent_tokenize,WhitespaceTokenizer\n",
    "from string import punctuation\n",
    "import contractions\n",
    "from unidecode import unidecode\n",
    "from nltk.stem import WordNetLemmatizer\n",
    "from sklearn.model_selection import train_test_split"
   ]
  },
  {
   "cell_type": "markdown",
   "id": "3fa086f2",
   "metadata": {},
   "source": [
    "## Data Gathering"
   ]
  },
  {
   "cell_type": "code",
   "execution_count": 2,
   "id": "1fbfdea7",
   "metadata": {},
   "outputs": [
    {
     "data": {
      "text/html": [
       "<div>\n",
       "<style scoped>\n",
       "    .dataframe tbody tr th:only-of-type {\n",
       "        vertical-align: middle;\n",
       "    }\n",
       "\n",
       "    .dataframe tbody tr th {\n",
       "        vertical-align: top;\n",
       "    }\n",
       "\n",
       "    .dataframe thead th {\n",
       "        text-align: right;\n",
       "    }\n",
       "</style>\n",
       "<table border=\"1\" class=\"dataframe\">\n",
       "  <thead>\n",
       "    <tr style=\"text-align: right;\">\n",
       "      <th></th>\n",
       "      <th>id</th>\n",
       "      <th>dateAdded</th>\n",
       "      <th>dateUpdated</th>\n",
       "      <th>name</th>\n",
       "      <th>asins</th>\n",
       "      <th>brand</th>\n",
       "      <th>categories</th>\n",
       "      <th>primaryCategories</th>\n",
       "      <th>imageURLs</th>\n",
       "      <th>keys</th>\n",
       "      <th>...</th>\n",
       "      <th>reviews.dateSeen</th>\n",
       "      <th>reviews.doRecommend</th>\n",
       "      <th>reviews.id</th>\n",
       "      <th>reviews.numHelpful</th>\n",
       "      <th>reviews.rating</th>\n",
       "      <th>reviews.sourceURLs</th>\n",
       "      <th>reviews.text</th>\n",
       "      <th>reviews.title</th>\n",
       "      <th>reviews.username</th>\n",
       "      <th>sourceURLs</th>\n",
       "    </tr>\n",
       "  </thead>\n",
       "  <tbody>\n",
       "    <tr>\n",
       "      <th>0</th>\n",
       "      <td>AVqVGZNvQMlgsOJE6eUY</td>\n",
       "      <td>2017-03-03T16:56:05Z</td>\n",
       "      <td>2018-10-25T16:36:31Z</td>\n",
       "      <td>Amazon Kindle E-Reader 6\" Wifi (8th Generation...</td>\n",
       "      <td>B00ZV9PXP2</td>\n",
       "      <td>Amazon</td>\n",
       "      <td>Computers,Electronics Features,Tablets,Electro...</td>\n",
       "      <td>Electronics</td>\n",
       "      <td>https://pisces.bbystatic.com/image2/BestBuy_US...</td>\n",
       "      <td>allnewkindleereaderblack6glarefreetouchscreend...</td>\n",
       "      <td>...</td>\n",
       "      <td>2018-05-27T00:00:00Z,2017-09-18T00:00:00Z,2017...</td>\n",
       "      <td>False</td>\n",
       "      <td>NaN</td>\n",
       "      <td>0</td>\n",
       "      <td>3</td>\n",
       "      <td>http://reviews.bestbuy.com/3545/5442403/review...</td>\n",
       "      <td>I thought it would be as big as small paper bu...</td>\n",
       "      <td>Too small</td>\n",
       "      <td>llyyue</td>\n",
       "      <td>https://www.newegg.com/Product/Product.aspx%25...</td>\n",
       "    </tr>\n",
       "    <tr>\n",
       "      <th>1</th>\n",
       "      <td>AVqVGZNvQMlgsOJE6eUY</td>\n",
       "      <td>2017-03-03T16:56:05Z</td>\n",
       "      <td>2018-10-25T16:36:31Z</td>\n",
       "      <td>Amazon Kindle E-Reader 6\" Wifi (8th Generation...</td>\n",
       "      <td>B00ZV9PXP2</td>\n",
       "      <td>Amazon</td>\n",
       "      <td>Computers,Electronics Features,Tablets,Electro...</td>\n",
       "      <td>Electronics</td>\n",
       "      <td>https://pisces.bbystatic.com/image2/BestBuy_US...</td>\n",
       "      <td>allnewkindleereaderblack6glarefreetouchscreend...</td>\n",
       "      <td>...</td>\n",
       "      <td>2018-05-27T00:00:00Z,2017-07-07T00:00:00Z,2017...</td>\n",
       "      <td>True</td>\n",
       "      <td>NaN</td>\n",
       "      <td>0</td>\n",
       "      <td>5</td>\n",
       "      <td>http://reviews.bestbuy.com/3545/5442403/review...</td>\n",
       "      <td>This kindle is light and easy to use especiall...</td>\n",
       "      <td>Great light reader. Easy to use at the beach</td>\n",
       "      <td>Charmi</td>\n",
       "      <td>https://www.newegg.com/Product/Product.aspx%25...</td>\n",
       "    </tr>\n",
       "    <tr>\n",
       "      <th>2</th>\n",
       "      <td>AVqVGZNvQMlgsOJE6eUY</td>\n",
       "      <td>2017-03-03T16:56:05Z</td>\n",
       "      <td>2018-10-25T16:36:31Z</td>\n",
       "      <td>Amazon Kindle E-Reader 6\" Wifi (8th Generation...</td>\n",
       "      <td>B00ZV9PXP2</td>\n",
       "      <td>Amazon</td>\n",
       "      <td>Computers,Electronics Features,Tablets,Electro...</td>\n",
       "      <td>Electronics</td>\n",
       "      <td>https://pisces.bbystatic.com/image2/BestBuy_US...</td>\n",
       "      <td>allnewkindleereaderblack6glarefreetouchscreend...</td>\n",
       "      <td>...</td>\n",
       "      <td>2018-05-27T00:00:00Z</td>\n",
       "      <td>True</td>\n",
       "      <td>NaN</td>\n",
       "      <td>0</td>\n",
       "      <td>4</td>\n",
       "      <td>https://reviews.bestbuy.com/3545/5442403/revie...</td>\n",
       "      <td>Didnt know how much i'd use a kindle so went f...</td>\n",
       "      <td>Great for the price</td>\n",
       "      <td>johnnyjojojo</td>\n",
       "      <td>https://www.newegg.com/Product/Product.aspx%25...</td>\n",
       "    </tr>\n",
       "    <tr>\n",
       "      <th>3</th>\n",
       "      <td>AVqVGZNvQMlgsOJE6eUY</td>\n",
       "      <td>2017-03-03T16:56:05Z</td>\n",
       "      <td>2018-10-25T16:36:31Z</td>\n",
       "      <td>Amazon Kindle E-Reader 6\" Wifi (8th Generation...</td>\n",
       "      <td>B00ZV9PXP2</td>\n",
       "      <td>Amazon</td>\n",
       "      <td>Computers,Electronics Features,Tablets,Electro...</td>\n",
       "      <td>Electronics</td>\n",
       "      <td>https://pisces.bbystatic.com/image2/BestBuy_US...</td>\n",
       "      <td>allnewkindleereaderblack6glarefreetouchscreend...</td>\n",
       "      <td>...</td>\n",
       "      <td>2018-10-09T00:00:00Z</td>\n",
       "      <td>True</td>\n",
       "      <td>177283626.0</td>\n",
       "      <td>3</td>\n",
       "      <td>5</td>\n",
       "      <td>https://redsky.target.com/groot-domain-api/v1/...</td>\n",
       "      <td>I am 100 happy with my purchase. I caught it o...</td>\n",
       "      <td>A Great Buy</td>\n",
       "      <td>Kdperry</td>\n",
       "      <td>https://www.newegg.com/Product/Product.aspx%25...</td>\n",
       "    </tr>\n",
       "    <tr>\n",
       "      <th>4</th>\n",
       "      <td>AVqVGZNvQMlgsOJE6eUY</td>\n",
       "      <td>2017-03-03T16:56:05Z</td>\n",
       "      <td>2018-10-25T16:36:31Z</td>\n",
       "      <td>Amazon Kindle E-Reader 6\" Wifi (8th Generation...</td>\n",
       "      <td>B00ZV9PXP2</td>\n",
       "      <td>Amazon</td>\n",
       "      <td>Computers,Electronics Features,Tablets,Electro...</td>\n",
       "      <td>Electronics</td>\n",
       "      <td>https://pisces.bbystatic.com/image2/BestBuy_US...</td>\n",
       "      <td>allnewkindleereaderblack6glarefreetouchscreend...</td>\n",
       "      <td>...</td>\n",
       "      <td>2018-05-27T00:00:00Z</td>\n",
       "      <td>True</td>\n",
       "      <td>NaN</td>\n",
       "      <td>0</td>\n",
       "      <td>5</td>\n",
       "      <td>https://reviews.bestbuy.com/3545/5442403/revie...</td>\n",
       "      <td>Solid entry level Kindle. Great for kids. Gift...</td>\n",
       "      <td>Solid entry-level Kindle. Great for kids</td>\n",
       "      <td>Johnnyblack</td>\n",
       "      <td>https://www.newegg.com/Product/Product.aspx%25...</td>\n",
       "    </tr>\n",
       "    <tr>\n",
       "      <th>...</th>\n",
       "      <td>...</td>\n",
       "      <td>...</td>\n",
       "      <td>...</td>\n",
       "      <td>...</td>\n",
       "      <td>...</td>\n",
       "      <td>...</td>\n",
       "      <td>...</td>\n",
       "      <td>...</td>\n",
       "      <td>...</td>\n",
       "      <td>...</td>\n",
       "      <td>...</td>\n",
       "      <td>...</td>\n",
       "      <td>...</td>\n",
       "      <td>...</td>\n",
       "      <td>...</td>\n",
       "      <td>...</td>\n",
       "      <td>...</td>\n",
       "      <td>...</td>\n",
       "      <td>...</td>\n",
       "      <td>...</td>\n",
       "      <td>...</td>\n",
       "    </tr>\n",
       "    <tr>\n",
       "      <th>4995</th>\n",
       "      <td>AVqkIdZiv8e3D1O-leaJ</td>\n",
       "      <td>2017-03-06T14:59:25Z</td>\n",
       "      <td>2017-09-04T11:19:31Z</td>\n",
       "      <td>Fire Tablet with Alexa, 7\" Display, 16 GB, Mag...</td>\n",
       "      <td>B018Y224PY</td>\n",
       "      <td>Amazon</td>\n",
       "      <td>Tablets,Fire Tablets,Electronics,iPad &amp; Tablet...</td>\n",
       "      <td>Electronics</td>\n",
       "      <td>https://images-na.ssl-images-amazon.com/images...</td>\n",
       "      <td>841667103150,0841667103150,firetabletwithalexa...</td>\n",
       "      <td>...</td>\n",
       "      <td>2017-04-30T02:06:48.451Z,2017-06-07T08:20:48.408Z</td>\n",
       "      <td>True</td>\n",
       "      <td>NaN</td>\n",
       "      <td>0</td>\n",
       "      <td>5</td>\n",
       "      <td>http://reviews.bestbuy.com/3545/5025900/review...</td>\n",
       "      <td>This is a great tablet for the price. Amazon i...</td>\n",
       "      <td>Good product</td>\n",
       "      <td>litle</td>\n",
       "      <td>https://www.barcodable.com/upc/841667103150,ht...</td>\n",
       "    </tr>\n",
       "    <tr>\n",
       "      <th>4996</th>\n",
       "      <td>AVqkIdZiv8e3D1O-leaJ</td>\n",
       "      <td>2017-03-06T14:59:25Z</td>\n",
       "      <td>2017-09-04T11:19:31Z</td>\n",
       "      <td>Fire Tablet with Alexa, 7\" Display, 16 GB, Mag...</td>\n",
       "      <td>B018Y224PY</td>\n",
       "      <td>Amazon</td>\n",
       "      <td>Tablets,Fire Tablets,Electronics,iPad &amp; Tablet...</td>\n",
       "      <td>Electronics</td>\n",
       "      <td>https://images-na.ssl-images-amazon.com/images...</td>\n",
       "      <td>841667103150,0841667103150,firetabletwithalexa...</td>\n",
       "      <td>...</td>\n",
       "      <td>2017-04-30T02:07:00.236Z,2017-06-07T08:20:55.199Z</td>\n",
       "      <td>True</td>\n",
       "      <td>NaN</td>\n",
       "      <td>1</td>\n",
       "      <td>5</td>\n",
       "      <td>http://reviews.bestbuy.com/3545/5025900/review...</td>\n",
       "      <td>This tablet is the perfect size and so easy to...</td>\n",
       "      <td>Great Tablet</td>\n",
       "      <td>gracie</td>\n",
       "      <td>https://www.barcodable.com/upc/841667103150,ht...</td>\n",
       "    </tr>\n",
       "    <tr>\n",
       "      <th>4997</th>\n",
       "      <td>AVqkIdZiv8e3D1O-leaJ</td>\n",
       "      <td>2017-03-06T14:59:25Z</td>\n",
       "      <td>2017-09-04T11:19:31Z</td>\n",
       "      <td>Fire Tablet with Alexa, 7\" Display, 16 GB, Mag...</td>\n",
       "      <td>B018Y224PY</td>\n",
       "      <td>Amazon</td>\n",
       "      <td>Tablets,Fire Tablets,Electronics,iPad &amp; Tablet...</td>\n",
       "      <td>Electronics</td>\n",
       "      <td>https://images-na.ssl-images-amazon.com/images...</td>\n",
       "      <td>841667103150,0841667103150,firetabletwithalexa...</td>\n",
       "      <td>...</td>\n",
       "      <td>2017-04-30T02:03:13.567Z,2017-06-07T08:10:47.953Z</td>\n",
       "      <td>True</td>\n",
       "      <td>NaN</td>\n",
       "      <td>8</td>\n",
       "      <td>4</td>\n",
       "      <td>http://reviews.bestbuy.com/3545/5025900/review...</td>\n",
       "      <td>Purchased this for my son. Has room to upgrade...</td>\n",
       "      <td>Great for kids or smaller needs</td>\n",
       "      <td>Hawk</td>\n",
       "      <td>https://www.barcodable.com/upc/841667103150,ht...</td>\n",
       "    </tr>\n",
       "    <tr>\n",
       "      <th>4998</th>\n",
       "      <td>AVqkIdZiv8e3D1O-leaJ</td>\n",
       "      <td>2017-03-06T14:59:25Z</td>\n",
       "      <td>2017-09-04T11:19:31Z</td>\n",
       "      <td>Fire Tablet with Alexa, 7\" Display, 16 GB, Mag...</td>\n",
       "      <td>B018Y224PY</td>\n",
       "      <td>Amazon</td>\n",
       "      <td>Tablets,Fire Tablets,Electronics,iPad &amp; Tablet...</td>\n",
       "      <td>Electronics</td>\n",
       "      <td>https://images-na.ssl-images-amazon.com/images...</td>\n",
       "      <td>841667103150,0841667103150,firetabletwithalexa...</td>\n",
       "      <td>...</td>\n",
       "      <td>2017-04-30T02:06:56.574Z,2017-06-07T08:20:53.942Z</td>\n",
       "      <td>True</td>\n",
       "      <td>NaN</td>\n",
       "      <td>0</td>\n",
       "      <td>5</td>\n",
       "      <td>http://reviews.bestbuy.com/3545/5025900/review...</td>\n",
       "      <td>I had some thoughts about getting this for a 5...</td>\n",
       "      <td>Very sturdy for a 5 year old</td>\n",
       "      <td>Mrbilly</td>\n",
       "      <td>https://www.barcodable.com/upc/841667103150,ht...</td>\n",
       "    </tr>\n",
       "    <tr>\n",
       "      <th>4999</th>\n",
       "      <td>AVqkIdZiv8e3D1O-leaJ</td>\n",
       "      <td>2017-03-06T14:59:25Z</td>\n",
       "      <td>2017-09-04T11:19:31Z</td>\n",
       "      <td>Fire Tablet with Alexa, 7\" Display, 16 GB, Mag...</td>\n",
       "      <td>B018Y224PY</td>\n",
       "      <td>Amazon</td>\n",
       "      <td>Tablets,Fire Tablets,Electronics,iPad &amp; Tablet...</td>\n",
       "      <td>Electronics</td>\n",
       "      <td>https://images-na.ssl-images-amazon.com/images...</td>\n",
       "      <td>841667103150,0841667103150,firetabletwithalexa...</td>\n",
       "      <td>...</td>\n",
       "      <td>2017-04-03T03:55:09.054Z,2017-04-30T02:03:18.1...</td>\n",
       "      <td>True</td>\n",
       "      <td>NaN</td>\n",
       "      <td>0</td>\n",
       "      <td>5</td>\n",
       "      <td>http://reviews.bestbuy.com/3545/5025900/review...</td>\n",
       "      <td>this is a steal, have 8 gb model as well.This ...</td>\n",
       "      <td>great little tablet</td>\n",
       "      <td>tabman</td>\n",
       "      <td>https://www.barcodable.com/upc/841667103150,ht...</td>\n",
       "    </tr>\n",
       "  </tbody>\n",
       "</table>\n",
       "<p>5000 rows × 24 columns</p>\n",
       "</div>"
      ],
      "text/plain": [
       "                        id             dateAdded           dateUpdated  \\\n",
       "0     AVqVGZNvQMlgsOJE6eUY  2017-03-03T16:56:05Z  2018-10-25T16:36:31Z   \n",
       "1     AVqVGZNvQMlgsOJE6eUY  2017-03-03T16:56:05Z  2018-10-25T16:36:31Z   \n",
       "2     AVqVGZNvQMlgsOJE6eUY  2017-03-03T16:56:05Z  2018-10-25T16:36:31Z   \n",
       "3     AVqVGZNvQMlgsOJE6eUY  2017-03-03T16:56:05Z  2018-10-25T16:36:31Z   \n",
       "4     AVqVGZNvQMlgsOJE6eUY  2017-03-03T16:56:05Z  2018-10-25T16:36:31Z   \n",
       "...                    ...                   ...                   ...   \n",
       "4995  AVqkIdZiv8e3D1O-leaJ  2017-03-06T14:59:25Z  2017-09-04T11:19:31Z   \n",
       "4996  AVqkIdZiv8e3D1O-leaJ  2017-03-06T14:59:25Z  2017-09-04T11:19:31Z   \n",
       "4997  AVqkIdZiv8e3D1O-leaJ  2017-03-06T14:59:25Z  2017-09-04T11:19:31Z   \n",
       "4998  AVqkIdZiv8e3D1O-leaJ  2017-03-06T14:59:25Z  2017-09-04T11:19:31Z   \n",
       "4999  AVqkIdZiv8e3D1O-leaJ  2017-03-06T14:59:25Z  2017-09-04T11:19:31Z   \n",
       "\n",
       "                                                   name       asins   brand  \\\n",
       "0     Amazon Kindle E-Reader 6\" Wifi (8th Generation...  B00ZV9PXP2  Amazon   \n",
       "1     Amazon Kindle E-Reader 6\" Wifi (8th Generation...  B00ZV9PXP2  Amazon   \n",
       "2     Amazon Kindle E-Reader 6\" Wifi (8th Generation...  B00ZV9PXP2  Amazon   \n",
       "3     Amazon Kindle E-Reader 6\" Wifi (8th Generation...  B00ZV9PXP2  Amazon   \n",
       "4     Amazon Kindle E-Reader 6\" Wifi (8th Generation...  B00ZV9PXP2  Amazon   \n",
       "...                                                 ...         ...     ...   \n",
       "4995  Fire Tablet with Alexa, 7\" Display, 16 GB, Mag...  B018Y224PY  Amazon   \n",
       "4996  Fire Tablet with Alexa, 7\" Display, 16 GB, Mag...  B018Y224PY  Amazon   \n",
       "4997  Fire Tablet with Alexa, 7\" Display, 16 GB, Mag...  B018Y224PY  Amazon   \n",
       "4998  Fire Tablet with Alexa, 7\" Display, 16 GB, Mag...  B018Y224PY  Amazon   \n",
       "4999  Fire Tablet with Alexa, 7\" Display, 16 GB, Mag...  B018Y224PY  Amazon   \n",
       "\n",
       "                                             categories primaryCategories  \\\n",
       "0     Computers,Electronics Features,Tablets,Electro...       Electronics   \n",
       "1     Computers,Electronics Features,Tablets,Electro...       Electronics   \n",
       "2     Computers,Electronics Features,Tablets,Electro...       Electronics   \n",
       "3     Computers,Electronics Features,Tablets,Electro...       Electronics   \n",
       "4     Computers,Electronics Features,Tablets,Electro...       Electronics   \n",
       "...                                                 ...               ...   \n",
       "4995  Tablets,Fire Tablets,Electronics,iPad & Tablet...       Electronics   \n",
       "4996  Tablets,Fire Tablets,Electronics,iPad & Tablet...       Electronics   \n",
       "4997  Tablets,Fire Tablets,Electronics,iPad & Tablet...       Electronics   \n",
       "4998  Tablets,Fire Tablets,Electronics,iPad & Tablet...       Electronics   \n",
       "4999  Tablets,Fire Tablets,Electronics,iPad & Tablet...       Electronics   \n",
       "\n",
       "                                              imageURLs  \\\n",
       "0     https://pisces.bbystatic.com/image2/BestBuy_US...   \n",
       "1     https://pisces.bbystatic.com/image2/BestBuy_US...   \n",
       "2     https://pisces.bbystatic.com/image2/BestBuy_US...   \n",
       "3     https://pisces.bbystatic.com/image2/BestBuy_US...   \n",
       "4     https://pisces.bbystatic.com/image2/BestBuy_US...   \n",
       "...                                                 ...   \n",
       "4995  https://images-na.ssl-images-amazon.com/images...   \n",
       "4996  https://images-na.ssl-images-amazon.com/images...   \n",
       "4997  https://images-na.ssl-images-amazon.com/images...   \n",
       "4998  https://images-na.ssl-images-amazon.com/images...   \n",
       "4999  https://images-na.ssl-images-amazon.com/images...   \n",
       "\n",
       "                                                   keys  ...  \\\n",
       "0     allnewkindleereaderblack6glarefreetouchscreend...  ...   \n",
       "1     allnewkindleereaderblack6glarefreetouchscreend...  ...   \n",
       "2     allnewkindleereaderblack6glarefreetouchscreend...  ...   \n",
       "3     allnewkindleereaderblack6glarefreetouchscreend...  ...   \n",
       "4     allnewkindleereaderblack6glarefreetouchscreend...  ...   \n",
       "...                                                 ...  ...   \n",
       "4995  841667103150,0841667103150,firetabletwithalexa...  ...   \n",
       "4996  841667103150,0841667103150,firetabletwithalexa...  ...   \n",
       "4997  841667103150,0841667103150,firetabletwithalexa...  ...   \n",
       "4998  841667103150,0841667103150,firetabletwithalexa...  ...   \n",
       "4999  841667103150,0841667103150,firetabletwithalexa...  ...   \n",
       "\n",
       "                                       reviews.dateSeen reviews.doRecommend  \\\n",
       "0     2018-05-27T00:00:00Z,2017-09-18T00:00:00Z,2017...               False   \n",
       "1     2018-05-27T00:00:00Z,2017-07-07T00:00:00Z,2017...                True   \n",
       "2                                  2018-05-27T00:00:00Z                True   \n",
       "3                                  2018-10-09T00:00:00Z                True   \n",
       "4                                  2018-05-27T00:00:00Z                True   \n",
       "...                                                 ...                 ...   \n",
       "4995  2017-04-30T02:06:48.451Z,2017-06-07T08:20:48.408Z                True   \n",
       "4996  2017-04-30T02:07:00.236Z,2017-06-07T08:20:55.199Z                True   \n",
       "4997  2017-04-30T02:03:13.567Z,2017-06-07T08:10:47.953Z                True   \n",
       "4998  2017-04-30T02:06:56.574Z,2017-06-07T08:20:53.942Z                True   \n",
       "4999  2017-04-03T03:55:09.054Z,2017-04-30T02:03:18.1...                True   \n",
       "\n",
       "       reviews.id reviews.numHelpful reviews.rating  \\\n",
       "0             NaN                  0              3   \n",
       "1             NaN                  0              5   \n",
       "2             NaN                  0              4   \n",
       "3     177283626.0                  3              5   \n",
       "4             NaN                  0              5   \n",
       "...           ...                ...            ...   \n",
       "4995          NaN                  0              5   \n",
       "4996          NaN                  1              5   \n",
       "4997          NaN                  8              4   \n",
       "4998          NaN                  0              5   \n",
       "4999          NaN                  0              5   \n",
       "\n",
       "                                     reviews.sourceURLs  \\\n",
       "0     http://reviews.bestbuy.com/3545/5442403/review...   \n",
       "1     http://reviews.bestbuy.com/3545/5442403/review...   \n",
       "2     https://reviews.bestbuy.com/3545/5442403/revie...   \n",
       "3     https://redsky.target.com/groot-domain-api/v1/...   \n",
       "4     https://reviews.bestbuy.com/3545/5442403/revie...   \n",
       "...                                                 ...   \n",
       "4995  http://reviews.bestbuy.com/3545/5025900/review...   \n",
       "4996  http://reviews.bestbuy.com/3545/5025900/review...   \n",
       "4997  http://reviews.bestbuy.com/3545/5025900/review...   \n",
       "4998  http://reviews.bestbuy.com/3545/5025900/review...   \n",
       "4999  http://reviews.bestbuy.com/3545/5025900/review...   \n",
       "\n",
       "                                           reviews.text  \\\n",
       "0     I thought it would be as big as small paper bu...   \n",
       "1     This kindle is light and easy to use especiall...   \n",
       "2     Didnt know how much i'd use a kindle so went f...   \n",
       "3     I am 100 happy with my purchase. I caught it o...   \n",
       "4     Solid entry level Kindle. Great for kids. Gift...   \n",
       "...                                                 ...   \n",
       "4995  This is a great tablet for the price. Amazon i...   \n",
       "4996  This tablet is the perfect size and so easy to...   \n",
       "4997  Purchased this for my son. Has room to upgrade...   \n",
       "4998  I had some thoughts about getting this for a 5...   \n",
       "4999  this is a steal, have 8 gb model as well.This ...   \n",
       "\n",
       "                                     reviews.title  reviews.username  \\\n",
       "0                                        Too small            llyyue   \n",
       "1     Great light reader. Easy to use at the beach            Charmi   \n",
       "2                              Great for the price      johnnyjojojo   \n",
       "3                                      A Great Buy           Kdperry   \n",
       "4         Solid entry-level Kindle. Great for kids       Johnnyblack   \n",
       "...                                            ...               ...   \n",
       "4995                                  Good product             litle   \n",
       "4996                                  Great Tablet            gracie   \n",
       "4997               Great for kids or smaller needs              Hawk   \n",
       "4998                  Very sturdy for a 5 year old           Mrbilly   \n",
       "4999                           great little tablet            tabman   \n",
       "\n",
       "                                             sourceURLs  \n",
       "0     https://www.newegg.com/Product/Product.aspx%25...  \n",
       "1     https://www.newegg.com/Product/Product.aspx%25...  \n",
       "2     https://www.newegg.com/Product/Product.aspx%25...  \n",
       "3     https://www.newegg.com/Product/Product.aspx%25...  \n",
       "4     https://www.newegg.com/Product/Product.aspx%25...  \n",
       "...                                                 ...  \n",
       "4995  https://www.barcodable.com/upc/841667103150,ht...  \n",
       "4996  https://www.barcodable.com/upc/841667103150,ht...  \n",
       "4997  https://www.barcodable.com/upc/841667103150,ht...  \n",
       "4998  https://www.barcodable.com/upc/841667103150,ht...  \n",
       "4999  https://www.barcodable.com/upc/841667103150,ht...  \n",
       "\n",
       "[5000 rows x 24 columns]"
      ]
     },
     "execution_count": 2,
     "metadata": {},
     "output_type": "execute_result"
    }
   ],
   "source": [
    "data=pd.read_csv(\"Datafiniti_Amazon_Consumer_Reviews_of_Amazon_Products.csv\")\n",
    "data"
   ]
  },
  {
   "cell_type": "code",
   "execution_count": 3,
   "id": "20bab69f",
   "metadata": {},
   "outputs": [
    {
     "data": {
      "text/html": [
       "<div>\n",
       "<style scoped>\n",
       "    .dataframe tbody tr th:only-of-type {\n",
       "        vertical-align: middle;\n",
       "    }\n",
       "\n",
       "    .dataframe tbody tr th {\n",
       "        vertical-align: top;\n",
       "    }\n",
       "\n",
       "    .dataframe thead th {\n",
       "        text-align: right;\n",
       "    }\n",
       "</style>\n",
       "<table border=\"1\" class=\"dataframe\">\n",
       "  <thead>\n",
       "    <tr style=\"text-align: right;\">\n",
       "      <th></th>\n",
       "      <th>reviews.rating</th>\n",
       "      <th>reviews.text</th>\n",
       "    </tr>\n",
       "  </thead>\n",
       "  <tbody>\n",
       "    <tr>\n",
       "      <th>0</th>\n",
       "      <td>3</td>\n",
       "      <td>I thought it would be as big as small paper bu...</td>\n",
       "    </tr>\n",
       "    <tr>\n",
       "      <th>1</th>\n",
       "      <td>5</td>\n",
       "      <td>This kindle is light and easy to use especiall...</td>\n",
       "    </tr>\n",
       "    <tr>\n",
       "      <th>2</th>\n",
       "      <td>4</td>\n",
       "      <td>Didnt know how much i'd use a kindle so went f...</td>\n",
       "    </tr>\n",
       "    <tr>\n",
       "      <th>3</th>\n",
       "      <td>5</td>\n",
       "      <td>I am 100 happy with my purchase. I caught it o...</td>\n",
       "    </tr>\n",
       "    <tr>\n",
       "      <th>4</th>\n",
       "      <td>5</td>\n",
       "      <td>Solid entry level Kindle. Great for kids. Gift...</td>\n",
       "    </tr>\n",
       "    <tr>\n",
       "      <th>...</th>\n",
       "      <td>...</td>\n",
       "      <td>...</td>\n",
       "    </tr>\n",
       "    <tr>\n",
       "      <th>4995</th>\n",
       "      <td>5</td>\n",
       "      <td>This is a great tablet for the price. Amazon i...</td>\n",
       "    </tr>\n",
       "    <tr>\n",
       "      <th>4996</th>\n",
       "      <td>5</td>\n",
       "      <td>This tablet is the perfect size and so easy to...</td>\n",
       "    </tr>\n",
       "    <tr>\n",
       "      <th>4997</th>\n",
       "      <td>4</td>\n",
       "      <td>Purchased this for my son. Has room to upgrade...</td>\n",
       "    </tr>\n",
       "    <tr>\n",
       "      <th>4998</th>\n",
       "      <td>5</td>\n",
       "      <td>I had some thoughts about getting this for a 5...</td>\n",
       "    </tr>\n",
       "    <tr>\n",
       "      <th>4999</th>\n",
       "      <td>5</td>\n",
       "      <td>this is a steal, have 8 gb model as well.This ...</td>\n",
       "    </tr>\n",
       "  </tbody>\n",
       "</table>\n",
       "<p>5000 rows × 2 columns</p>\n",
       "</div>"
      ],
      "text/plain": [
       "      reviews.rating                                       reviews.text\n",
       "0                  3  I thought it would be as big as small paper bu...\n",
       "1                  5  This kindle is light and easy to use especiall...\n",
       "2                  4  Didnt know how much i'd use a kindle so went f...\n",
       "3                  5  I am 100 happy with my purchase. I caught it o...\n",
       "4                  5  Solid entry level Kindle. Great for kids. Gift...\n",
       "...              ...                                                ...\n",
       "4995               5  This is a great tablet for the price. Amazon i...\n",
       "4996               5  This tablet is the perfect size and so easy to...\n",
       "4997               4  Purchased this for my son. Has room to upgrade...\n",
       "4998               5  I had some thoughts about getting this for a 5...\n",
       "4999               5  this is a steal, have 8 gb model as well.This ...\n",
       "\n",
       "[5000 rows x 2 columns]"
      ]
     },
     "execution_count": 3,
     "metadata": {},
     "output_type": "execute_result"
    }
   ],
   "source": [
    "df=data[[\"reviews.rating\",\"reviews.text\"]]\n",
    "df"
   ]
  },
  {
   "cell_type": "markdown",
   "id": "8f321e8d",
   "metadata": {},
   "source": [
    "## Data Initial Pre-processing"
   ]
  },
  {
   "cell_type": "code",
   "execution_count": 4,
   "id": "7f185a29",
   "metadata": {},
   "outputs": [
    {
     "name": "stdout",
     "output_type": "stream",
     "text": [
      "<class 'pandas.core.frame.DataFrame'>\n",
      "RangeIndex: 5000 entries, 0 to 4999\n",
      "Data columns (total 2 columns):\n",
      " #   Column          Non-Null Count  Dtype \n",
      "---  ------          --------------  ----- \n",
      " 0   reviews.rating  5000 non-null   int64 \n",
      " 1   reviews.text    5000 non-null   object\n",
      "dtypes: int64(1), object(1)\n",
      "memory usage: 78.2+ KB\n"
     ]
    }
   ],
   "source": [
    "df.info()"
   ]
  },
  {
   "cell_type": "markdown",
   "id": "3a3bb472",
   "metadata": {},
   "source": [
    "### There are no missing values in our data "
   ]
  },
  {
   "cell_type": "markdown",
   "id": "98493728",
   "metadata": {},
   "source": [
    "### Language Detection"
   ]
  },
  {
   "cell_type": "code",
   "execution_count": 5,
   "id": "d3f4fa0f",
   "metadata": {},
   "outputs": [],
   "source": [
    "def lang_detect(data):\n",
    "    lang = detect(data)\n",
    "    return lang"
   ]
  },
  {
   "cell_type": "code",
   "execution_count": 6,
   "id": "5a2730a3",
   "metadata": {},
   "outputs": [
    {
     "data": {
      "text/html": [
       "<div>\n",
       "<style scoped>\n",
       "    .dataframe tbody tr th:only-of-type {\n",
       "        vertical-align: middle;\n",
       "    }\n",
       "\n",
       "    .dataframe tbody tr th {\n",
       "        vertical-align: top;\n",
       "    }\n",
       "\n",
       "    .dataframe thead th {\n",
       "        text-align: right;\n",
       "    }\n",
       "</style>\n",
       "<table border=\"1\" class=\"dataframe\">\n",
       "  <thead>\n",
       "    <tr style=\"text-align: right;\">\n",
       "      <th></th>\n",
       "      <th>reviews.rating</th>\n",
       "      <th>reviews.text</th>\n",
       "      <th>language</th>\n",
       "    </tr>\n",
       "  </thead>\n",
       "  <tbody>\n",
       "    <tr>\n",
       "      <th>0</th>\n",
       "      <td>3</td>\n",
       "      <td>I thought it would be as big as small paper bu...</td>\n",
       "      <td>en</td>\n",
       "    </tr>\n",
       "    <tr>\n",
       "      <th>1</th>\n",
       "      <td>5</td>\n",
       "      <td>This kindle is light and easy to use especiall...</td>\n",
       "      <td>en</td>\n",
       "    </tr>\n",
       "    <tr>\n",
       "      <th>2</th>\n",
       "      <td>4</td>\n",
       "      <td>Didnt know how much i'd use a kindle so went f...</td>\n",
       "      <td>en</td>\n",
       "    </tr>\n",
       "    <tr>\n",
       "      <th>3</th>\n",
       "      <td>5</td>\n",
       "      <td>I am 100 happy with my purchase. I caught it o...</td>\n",
       "      <td>en</td>\n",
       "    </tr>\n",
       "    <tr>\n",
       "      <th>4</th>\n",
       "      <td>5</td>\n",
       "      <td>Solid entry level Kindle. Great for kids. Gift...</td>\n",
       "      <td>en</td>\n",
       "    </tr>\n",
       "    <tr>\n",
       "      <th>...</th>\n",
       "      <td>...</td>\n",
       "      <td>...</td>\n",
       "      <td>...</td>\n",
       "    </tr>\n",
       "    <tr>\n",
       "      <th>4995</th>\n",
       "      <td>5</td>\n",
       "      <td>This is a great tablet for the price. Amazon i...</td>\n",
       "      <td>en</td>\n",
       "    </tr>\n",
       "    <tr>\n",
       "      <th>4996</th>\n",
       "      <td>5</td>\n",
       "      <td>This tablet is the perfect size and so easy to...</td>\n",
       "      <td>en</td>\n",
       "    </tr>\n",
       "    <tr>\n",
       "      <th>4997</th>\n",
       "      <td>4</td>\n",
       "      <td>Purchased this for my son. Has room to upgrade...</td>\n",
       "      <td>en</td>\n",
       "    </tr>\n",
       "    <tr>\n",
       "      <th>4998</th>\n",
       "      <td>5</td>\n",
       "      <td>I had some thoughts about getting this for a 5...</td>\n",
       "      <td>en</td>\n",
       "    </tr>\n",
       "    <tr>\n",
       "      <th>4999</th>\n",
       "      <td>5</td>\n",
       "      <td>this is a steal, have 8 gb model as well.This ...</td>\n",
       "      <td>en</td>\n",
       "    </tr>\n",
       "  </tbody>\n",
       "</table>\n",
       "<p>5000 rows × 3 columns</p>\n",
       "</div>"
      ],
      "text/plain": [
       "      reviews.rating                                       reviews.text  \\\n",
       "0                  3  I thought it would be as big as small paper bu...   \n",
       "1                  5  This kindle is light and easy to use especiall...   \n",
       "2                  4  Didnt know how much i'd use a kindle so went f...   \n",
       "3                  5  I am 100 happy with my purchase. I caught it o...   \n",
       "4                  5  Solid entry level Kindle. Great for kids. Gift...   \n",
       "...              ...                                                ...   \n",
       "4995               5  This is a great tablet for the price. Amazon i...   \n",
       "4996               5  This tablet is the perfect size and so easy to...   \n",
       "4997               4  Purchased this for my son. Has room to upgrade...   \n",
       "4998               5  I had some thoughts about getting this for a 5...   \n",
       "4999               5  this is a steal, have 8 gb model as well.This ...   \n",
       "\n",
       "     language  \n",
       "0          en  \n",
       "1          en  \n",
       "2          en  \n",
       "3          en  \n",
       "4          en  \n",
       "...       ...  \n",
       "4995       en  \n",
       "4996       en  \n",
       "4997       en  \n",
       "4998       en  \n",
       "4999       en  \n",
       "\n",
       "[5000 rows x 3 columns]"
      ]
     },
     "execution_count": 6,
     "metadata": {},
     "output_type": "execute_result"
    }
   ],
   "source": [
    "df['language'] = df[\"reviews.text\"].apply(lang_detect)\n",
    "df"
   ]
  },
  {
   "cell_type": "code",
   "execution_count": 7,
   "id": "3c504753",
   "metadata": {},
   "outputs": [
    {
     "data": {
      "text/plain": [
       "array(['en', 'no', 'it', 'da', 'de'], dtype=object)"
      ]
     },
     "execution_count": 7,
     "metadata": {},
     "output_type": "execute_result"
    }
   ],
   "source": [
    "df.language.unique()"
   ]
  },
  {
   "cell_type": "markdown",
   "id": "4ac46fa2",
   "metadata": {},
   "source": [
    "### We detect language of text column using langdetect and we observe the unique languages in text column"
   ]
  },
  {
   "cell_type": "markdown",
   "id": "6f5b2ff2",
   "metadata": {},
   "source": [
    "### Language Transformation"
   ]
  },
  {
   "cell_type": "code",
   "execution_count": 8,
   "id": "9e71da6b",
   "metadata": {},
   "outputs": [],
   "source": [
    "def lang_trans(data):\n",
    "    translor = Translator()\n",
    "    translated_text = translor.translate(data)\n",
    "    return translated_text.text"
   ]
  },
  {
   "cell_type": "code",
   "execution_count": 11,
   "id": "8aa64d00",
   "metadata": {},
   "outputs": [
    {
     "data": {
      "text/html": [
       "<div>\n",
       "<style scoped>\n",
       "    .dataframe tbody tr th:only-of-type {\n",
       "        vertical-align: middle;\n",
       "    }\n",
       "\n",
       "    .dataframe tbody tr th {\n",
       "        vertical-align: top;\n",
       "    }\n",
       "\n",
       "    .dataframe thead th {\n",
       "        text-align: right;\n",
       "    }\n",
       "</style>\n",
       "<table border=\"1\" class=\"dataframe\">\n",
       "  <thead>\n",
       "    <tr style=\"text-align: right;\">\n",
       "      <th></th>\n",
       "      <th>reviews.rating</th>\n",
       "      <th>reviews.text</th>\n",
       "      <th>language</th>\n",
       "      <th>translated_reviews</th>\n",
       "    </tr>\n",
       "  </thead>\n",
       "  <tbody>\n",
       "    <tr>\n",
       "      <th>0</th>\n",
       "      <td>3</td>\n",
       "      <td>I thought it would be as big as small paper bu...</td>\n",
       "      <td>en</td>\n",
       "      <td>I thought it would be as big as small paper bu...</td>\n",
       "    </tr>\n",
       "    <tr>\n",
       "      <th>1</th>\n",
       "      <td>5</td>\n",
       "      <td>This kindle is light and easy to use especiall...</td>\n",
       "      <td>en</td>\n",
       "      <td>This kindle is light and easy to use especiall...</td>\n",
       "    </tr>\n",
       "    <tr>\n",
       "      <th>2</th>\n",
       "      <td>4</td>\n",
       "      <td>Didnt know how much i'd use a kindle so went f...</td>\n",
       "      <td>en</td>\n",
       "      <td>Didnt know how much i'd use a kindle so went f...</td>\n",
       "    </tr>\n",
       "    <tr>\n",
       "      <th>3</th>\n",
       "      <td>5</td>\n",
       "      <td>I am 100 happy with my purchase. I caught it o...</td>\n",
       "      <td>en</td>\n",
       "      <td>I am 100 happy with my purchase. I caught it o...</td>\n",
       "    </tr>\n",
       "    <tr>\n",
       "      <th>4</th>\n",
       "      <td>5</td>\n",
       "      <td>Solid entry level Kindle. Great for kids. Gift...</td>\n",
       "      <td>en</td>\n",
       "      <td>Solid entry level Kindle. Great for kids. Gift...</td>\n",
       "    </tr>\n",
       "    <tr>\n",
       "      <th>...</th>\n",
       "      <td>...</td>\n",
       "      <td>...</td>\n",
       "      <td>...</td>\n",
       "      <td>...</td>\n",
       "    </tr>\n",
       "    <tr>\n",
       "      <th>4995</th>\n",
       "      <td>5</td>\n",
       "      <td>This is a great tablet for the price. Amazon i...</td>\n",
       "      <td>en</td>\n",
       "      <td>This is a great tablet for the price. Amazon i...</td>\n",
       "    </tr>\n",
       "    <tr>\n",
       "      <th>4996</th>\n",
       "      <td>5</td>\n",
       "      <td>This tablet is the perfect size and so easy to...</td>\n",
       "      <td>en</td>\n",
       "      <td>This tablet is the perfect size and so easy to...</td>\n",
       "    </tr>\n",
       "    <tr>\n",
       "      <th>4997</th>\n",
       "      <td>4</td>\n",
       "      <td>Purchased this for my son. Has room to upgrade...</td>\n",
       "      <td>en</td>\n",
       "      <td>Purchased this for my son. Has room to upgrade...</td>\n",
       "    </tr>\n",
       "    <tr>\n",
       "      <th>4998</th>\n",
       "      <td>5</td>\n",
       "      <td>I had some thoughts about getting this for a 5...</td>\n",
       "      <td>en</td>\n",
       "      <td>I had some thoughts about getting this for a 5...</td>\n",
       "    </tr>\n",
       "    <tr>\n",
       "      <th>4999</th>\n",
       "      <td>5</td>\n",
       "      <td>this is a steal, have 8 gb model as well.This ...</td>\n",
       "      <td>en</td>\n",
       "      <td>this is a steal, have 8 gb model as well.This ...</td>\n",
       "    </tr>\n",
       "  </tbody>\n",
       "</table>\n",
       "<p>5000 rows × 4 columns</p>\n",
       "</div>"
      ],
      "text/plain": [
       "      reviews.rating                                       reviews.text  \\\n",
       "0                  3  I thought it would be as big as small paper bu...   \n",
       "1                  5  This kindle is light and easy to use especiall...   \n",
       "2                  4  Didnt know how much i'd use a kindle so went f...   \n",
       "3                  5  I am 100 happy with my purchase. I caught it o...   \n",
       "4                  5  Solid entry level Kindle. Great for kids. Gift...   \n",
       "...              ...                                                ...   \n",
       "4995               5  This is a great tablet for the price. Amazon i...   \n",
       "4996               5  This tablet is the perfect size and so easy to...   \n",
       "4997               4  Purchased this for my son. Has room to upgrade...   \n",
       "4998               5  I had some thoughts about getting this for a 5...   \n",
       "4999               5  this is a steal, have 8 gb model as well.This ...   \n",
       "\n",
       "     language                                 translated_reviews  \n",
       "0          en  I thought it would be as big as small paper bu...  \n",
       "1          en  This kindle is light and easy to use especiall...  \n",
       "2          en  Didnt know how much i'd use a kindle so went f...  \n",
       "3          en  I am 100 happy with my purchase. I caught it o...  \n",
       "4          en  Solid entry level Kindle. Great for kids. Gift...  \n",
       "...       ...                                                ...  \n",
       "4995       en  This is a great tablet for the price. Amazon i...  \n",
       "4996       en  This tablet is the perfect size and so easy to...  \n",
       "4997       en  Purchased this for my son. Has room to upgrade...  \n",
       "4998       en  I had some thoughts about getting this for a 5...  \n",
       "4999       en  this is a steal, have 8 gb model as well.This ...  \n",
       "\n",
       "[5000 rows x 4 columns]"
      ]
     },
     "execution_count": 11,
     "metadata": {},
     "output_type": "execute_result"
    }
   ],
   "source": [
    "df['translated_reviews'] = df[\"reviews.text\"].apply(lang_trans)\n",
    "df"
   ]
  },
  {
   "cell_type": "markdown",
   "id": "1dffa3cc",
   "metadata": {},
   "source": [
    "### Using googletrans we import Translater and we translate our text in english language"
   ]
  },
  {
   "cell_type": "markdown",
   "id": "7cfa850b",
   "metadata": {},
   "source": [
    "### Removing stopwords"
   ]
  },
  {
   "cell_type": "code",
   "execution_count": 12,
   "id": "f2117a21",
   "metadata": {},
   "outputs": [],
   "source": [
    "def expand_text(data):\n",
    "    expanded_text = contractions.fix(data)\n",
    "    return expanded_text\n",
    "stopword_list = stopwords.words('english')\n",
    "stopword_list.remove('no')\n",
    "stopword_list.remove('nor')\n",
    "stopword_list.remove('not')\n",
    "\n",
    "def clean_data(data):\n",
    "    tokens = word_tokenize(data)\n",
    "    clean_text = [word.lower() for word in tokens if (word not in punctuation) and (word.lower() not in stopword_list) and (len(word)>2) and (word.isalpha())]\n",
    "    return clean_text"
   ]
  },
  {
   "cell_type": "code",
   "execution_count": 13,
   "id": "dd604275",
   "metadata": {},
   "outputs": [
    {
     "data": {
      "text/plain": [
       "0       [thought, would, big, small, paper, turn, like...\n",
       "1           [kindle, light, easy, use, especially, beach]\n",
       "2       [not, know, much, would, use, kindle, went, lo...\n",
       "3       [happy, purchase, caught, sale, really, good, ...\n",
       "4       [solid, entry, level, kindle, great, kids, gif...\n",
       "                              ...                        \n",
       "4995            [great, tablet, price, amazon, good, job]\n",
       "4996    [tablet, perfect, size, easy, use, read, play,...\n",
       "4997    [purchased, son, room, upgrade, memory, allow,...\n",
       "4998    [thoughts, getting, year, old, get, screen, pr...\n",
       "4999                                [steal, model, punch]\n",
       "Name: translated_reviews, Length: 5000, dtype: object"
      ]
     },
     "execution_count": 13,
     "metadata": {},
     "output_type": "execute_result"
    }
   ],
   "source": [
    "clean_text = df.translated_reviews.apply(expand_text)\n",
    "clean_text = clean_text.apply(clean_data)\n",
    "clean_text"
   ]
  },
  {
   "cell_type": "markdown",
   "id": "0eb9309b",
   "metadata": {},
   "source": [
    "### Here using contraction mapping we expand the words like Don't as do not and then we remove stopwords like no ,nor and not from stopwords list so that negative review does not change into positive review it become as it is negative after tokenization we perform tokenization on translated review and we clean our text"
   ]
  },
  {
   "cell_type": "markdown",
   "id": "8254daf6",
   "metadata": {},
   "source": [
    "## EDA"
   ]
  },
  {
   "cell_type": "markdown",
   "id": "9e8b0643",
   "metadata": {},
   "source": [
    "### Ngrams"
   ]
  },
  {
   "cell_type": "code",
   "execution_count": 14,
   "id": "b94d8ec3",
   "metadata": {},
   "outputs": [],
   "source": [
    "def ngram_extractor(data,ngram_range):\n",
    "    tokens = word_tokenize(data)\n",
    "    ngram = ngrams(tokens,ngram_range)\n",
    "    ngram_list1 = []\n",
    "    for ngram1 in ngram:\n",
    "        ngram_list1.append(' '.join(ngram1))\n",
    "    return ngram_list1"
   ]
  },
  {
   "cell_type": "markdown",
   "id": "6fef7a5f",
   "metadata": {},
   "source": [
    "### We perform Ngrams here to observe words that which words are important and which are not important"
   ]
  },
  {
   "cell_type": "markdown",
   "id": "933eed00",
   "metadata": {},
   "source": [
    "### 1. Unigrams"
   ]
  },
  {
   "cell_type": "code",
   "execution_count": 15,
   "id": "ca69c272",
   "metadata": {},
   "outputs": [
    {
     "data": {
      "text/plain": [
       "[('not', 1600),\n",
       " ('great', 1598),\n",
       " ('tablet', 1306),\n",
       " ('love', 1092),\n",
       " ('use', 1084),\n",
       " ('easy', 822),\n",
       " ('bought', 785),\n",
       " ('kindle', 762),\n",
       " ('one', 760),\n",
       " ('amazon', 719),\n",
       " ('echo', 695),\n",
       " ('good', 673),\n",
       " ('like', 552),\n",
       " ('would', 527),\n",
       " ('alexa', 512),\n",
       " ('loves', 504),\n",
       " ('screen', 497),\n",
       " ('price', 477),\n",
       " ('product', 469),\n",
       " ('fire', 447),\n",
       " ('kids', 439),\n",
       " ('old', 419),\n",
       " ('music', 403),\n",
       " ('get', 388),\n",
       " ('works', 380)]"
      ]
     },
     "execution_count": 15,
     "metadata": {},
     "output_type": "execute_result"
    }
   ],
   "source": [
    "list_unigrams = clean_text.apply(lambda x : ngram_extractor(' '.join(x),1))\n",
    "final_unigrams=[]\n",
    "for unigram in list_unigrams:\n",
    "    final_unigrams.extend(unigram)\n",
    "cnt = Counter(final_unigrams).most_common(25)\n",
    "cnt"
   ]
  },
  {
   "cell_type": "markdown",
   "id": "07b41a90",
   "metadata": {},
   "source": [
    "### Using unigram we can see the word and its count in data so that we can see the most frequent word in our text and we can decide which word we have to take or not"
   ]
  },
  {
   "cell_type": "markdown",
   "id": "3a68830d",
   "metadata": {},
   "source": [
    "### 2.Bigrams"
   ]
  },
  {
   "cell_type": "code",
   "execution_count": 16,
   "id": "9d8ca9ce",
   "metadata": {},
   "outputs": [
    {
     "data": {
      "text/plain": [
       "[('easy use', 345),\n",
       " ('year old', 250),\n",
       " ('echo show', 174),\n",
       " ('kindle fire', 147),\n",
       " ('works great', 145),\n",
       " ('great tablet', 129),\n",
       " ('great product', 119),\n",
       " ('easy set', 117),\n",
       " ('best buy', 111),\n",
       " ('echo plus', 107),\n",
       " ('battery life', 97),\n",
       " ('would recommend', 97),\n",
       " ('works well', 93),\n",
       " ('great price', 89),\n",
       " ('amazon echo', 81),\n",
       " ('amazon fire', 77),\n",
       " ('play games', 70),\n",
       " ('amazon prime', 67),\n",
       " ('smart home', 66),\n",
       " ('kids love', 64),\n",
       " ('tablet great', 64),\n",
       " ('fire tablet', 63),\n",
       " ('read books', 62),\n",
       " ('daughter loves', 60),\n",
       " ('good tablet', 57)]"
      ]
     },
     "execution_count": 16,
     "metadata": {},
     "output_type": "execute_result"
    }
   ],
   "source": [
    "# Using bigrams we check domain specific stopwords\n",
    "\n",
    "list_bigrams = clean_text.apply(lambda x : ngram_extractor(' '.join(x),2))\n",
    "final_bigrams=[]\n",
    "for bigram in list_bigrams:\n",
    "  final_bigrams.extend(bigram)\n",
    "cnt = Counter(final_bigrams).most_common(25)\n",
    "cnt"
   ]
  },
  {
   "cell_type": "markdown",
   "id": "a08b9c1b",
   "metadata": {},
   "source": [
    "### Here we perform bigrams using bigrams we understand the reason behind the customers satisfaction or unsatisfaction"
   ]
  },
  {
   "cell_type": "markdown",
   "id": "b31e1906",
   "metadata": {},
   "source": [
    "### WordCloud"
   ]
  },
  {
   "cell_type": "code",
   "execution_count": 17,
   "id": "307dc933",
   "metadata": {},
   "outputs": [
    {
     "data": {
      "image/png": "[encoded data removed]",
      "text/plain": [
       "<Figure size 500x1000 with 1 Axes>"
      ]
     },
     "metadata": {},
     "output_type": "display_data"
    }
   ],
   "source": [
    "def wordcloud(data,column):\n",
    "  df_ = data[column].str.cat(sep=' ')\n",
    "  wordcloud = WordCloud(width=700,height=500,background_color = 'white').generate(df_)\n",
    "  plt.figure(figsize=(5,10))\n",
    "  plt.imshow(wordcloud)\n",
    "  plt.axis('off')\n",
    "  plt.show()\n",
    "\n",
    "wordcloud(df,'translated_reviews')"
   ]
  },
  {
   "cell_type": "markdown",
   "id": "4b8f09dd",
   "metadata": {},
   "source": [
    "### This is overall wordcloud , Using wordcloud we can see the most frequent words in text data"
   ]
  },
  {
   "cell_type": "markdown",
   "id": "b22268bf",
   "metadata": {},
   "source": [
    "## Data Pre-Processing"
   ]
  },
  {
   "cell_type": "code",
   "execution_count": 18,
   "id": "9efe6224",
   "metadata": {},
   "outputs": [],
   "source": [
    "# preprocessing \n",
    "# 1. remove spaces,newlines\n",
    "def remove_spaces(data):\n",
    "    clean_text = data.replace('\\\\n',' ').replace(\"\\t\",' ').replace('\\\\',' ')\n",
    "    return clean_text\n",
    "\n",
    "# 2. contraction mapping\n",
    "def expand_text(data):\n",
    "    expanded_text = contractions.fix(data)\n",
    "    return expanded_text\n",
    "\n",
    "# 3.handling accented character\n",
    "def handling_accented(data):\n",
    "    fixed_text = unidecode(data)\n",
    "    return fixed_text\n",
    "\n",
    "# 4. Cleaning \n",
    "stopword_list = stopwords.words(\"english\")\n",
    "stopword_list.remove('no')\n",
    "stopword_list.remove('nor')\n",
    "stopword_list.remove('not')\n",
    "\n",
    "def clean_data(data):\n",
    "    tokens = word_tokenize(data)\n",
    "    clean_text = [word.lower() for word in tokens if (word not in punctuation) and(word.lower() not in stopword_list) and(len(word)>2) and (word.isalpha())]\n",
    "    return clean_text                   # and(word.lower() not in stopword_list) and(len(word)>2) and (word.isalpha())]\n",
    "\n",
    "# 5.autocorrect \n",
    "def autocorrection(data):\n",
    "    spell = Speller(lang='en')\n",
    "    corrected_text = spell(data)\n",
    "    return corrected_text\n",
    "\n",
    "# 6. lemmatization\n",
    "def lemmatization(data):\n",
    "    lemmatizer = WordNetLemmatizer()\n",
    "    final_data = []\n",
    "    for word in data :\n",
    "        lemmatized_word = lemmatizer.lemmatize(word)\n",
    "        final_data.append(lemmatized_word)\n",
    "    return \" \".join(final_data)"
   ]
  },
  {
   "cell_type": "code",
   "execution_count": 19,
   "id": "4e93b676",
   "metadata": {},
   "outputs": [],
   "source": [
    "df[\"translated_reviews\"] = df[\"translated_reviews\"].apply(remove_spaces)\n",
    "\n",
    "df[\"translated_reviews\"] = df[\"translated_reviews\"].apply(expand_text)\n",
    "\n",
    "df[\"translated_reviews\"] = df[\"translated_reviews\"].apply(handling_accented)\n",
    "\n",
    "df[\"translated_reviews\"] = df[\"translated_reviews\"].apply(clean_data)\n",
    "\n",
    "df[\"translated_reviews\"] = df[\"translated_reviews\"].apply(lemmatization)"
   ]
  },
  {
   "cell_type": "code",
   "execution_count": 20,
   "id": "68ad67a3",
   "metadata": {},
   "outputs": [],
   "source": [
    "X_cleaned=df[\"translated_reviews\"]"
   ]
  },
  {
   "cell_type": "markdown",
   "id": "5efe857b",
   "metadata": {},
   "source": [
    "### Here we replace Newline and tab by space and using contraction mapping we expand the words like Don't as do not and we handle accented charachters by using unidecode then we remove stopwords like no ,nor and not from stopwords list so that negative review does not change into positive review it become as it is negative after tokenization we perform tokenization on translated review and we use speller to correct the spellings od text and using lemmatization we get the rootform of the word in this way we clean our text"
   ]
  },
  {
   "cell_type": "code",
   "execution_count": 21,
   "id": "63561c07",
   "metadata": {},
   "outputs": [],
   "source": [
    "X = df['translated_reviews']\n",
    "y = df['reviews.rating']"
   ]
  },
  {
   "cell_type": "markdown",
   "id": "b4b9f7dd",
   "metadata": {},
   "source": [
    "### We created independent(X) and dependent(y) features"
   ]
  },
  {
   "cell_type": "code",
   "execution_count": 30,
   "id": "f3165c9a",
   "metadata": {},
   "outputs": [],
   "source": [
    "from tensorflow.keras.utils import to_categorical"
   ]
  },
  {
   "cell_type": "code",
   "execution_count": 31,
   "id": "814b3fcf",
   "metadata": {},
   "outputs": [],
   "source": [
    "encoding = {1: 0,2: 1,3: 2,4: 3,5: 4}\n",
    "labels = ['1', '2', '3', '4', '5']\n",
    "           \n",
    "y = df['reviews.rating'].copy()\n",
    "y.replace(encoding, inplace=True)\n",
    "y = to_categorical(y,5)"
   ]
  },
  {
   "cell_type": "markdown",
   "id": "0e71653c",
   "metadata": {},
   "source": [
    "### We perform one hot encoding on 'reviews.rating' feature"
   ]
  },
  {
   "cell_type": "markdown",
   "id": "3c357a05",
   "metadata": {},
   "source": [
    "### Train_Test_Split"
   ]
  },
  {
   "cell_type": "code",
   "execution_count": 32,
   "id": "4b178723",
   "metadata": {},
   "outputs": [],
   "source": [
    "X_train, X_test, y_train, y_test = train_test_split(X_cleaned, y, stratify=y, random_state=42,test_size=0.1)"
   ]
  },
  {
   "cell_type": "markdown",
   "id": "f47c5884",
   "metadata": {},
   "source": [
    "### We split data into training and testing dataset"
   ]
  },
  {
   "cell_type": "code",
   "execution_count": 33,
   "id": "68e2d76d",
   "metadata": {},
   "outputs": [],
   "source": [
    "from tensorflow.keras.preprocessing.text import Tokenizer\n",
    "from tensorflow.keras.preprocessing.sequence import pad_sequences"
   ]
  },
  {
   "cell_type": "code",
   "execution_count": 34,
   "id": "077cca5d",
   "metadata": {},
   "outputs": [
    {
     "name": "stdout",
     "output_type": "stream",
     "text": [
      "Vocabulary size: 4184\n",
      "Max length of sentence: 699\n"
     ]
    }
   ],
   "source": [
    "tokenizer = Tokenizer()\n",
    "tokenizer.fit_on_texts(X_train)\n",
    "X_train = tokenizer.texts_to_sequences(X_train)\n",
    "max_length = max([len(x) for x in X_train])\n",
    "vocab_size = len(tokenizer.word_index)+1 #add 1 to account for unknown word\n",
    "print(\"Vocabulary size: {}\".format(vocab_size))\n",
    "print(\"Max length of sentence: {}\".format(max_length))\n",
    "X_train = pad_sequences(X_train, max_length ,padding='post')"
   ]
  },
  {
   "cell_type": "markdown",
   "id": "6ac0f88d",
   "metadata": {},
   "source": [
    "### We check vocabulary size and max length of sentence"
   ]
  },
  {
   "cell_type": "markdown",
   "id": "7a20db5b",
   "metadata": {},
   "source": [
    "## Model Building"
   ]
  },
  {
   "cell_type": "code",
   "execution_count": 35,
   "id": "c9ab9310",
   "metadata": {},
   "outputs": [],
   "source": [
    "from tensorflow.keras.models import Sequential\n",
    "from tensorflow.keras.layers import LSTM,Dense,Dropout\n",
    "from tensorflow.keras.layers import Bidirectional,Embedding,Flatten\n",
    "from tensorflow.keras.callbacks import EarlyStopping,ModelCheckpoint"
   ]
  },
  {
   "cell_type": "code",
   "execution_count": 36,
   "id": "ee4da914",
   "metadata": {},
   "outputs": [
    {
     "name": "stdout",
     "output_type": "stream",
     "text": [
      "Model: \"sequential_1\"\n",
      "_________________________________________________________________\n",
      " Layer (type)                Output Shape              Param #   \n",
      "=================================================================\n",
      " embedding_1 (Embedding)     (None, 699, 32)           133888    \n",
      "                                                                 \n",
      " bidirectional_1 (Bidirectio  (None, 699, 500)         566000    \n",
      " nal)                                                            \n",
      "                                                                 \n",
      " dropout_3 (Dropout)         (None, 699, 500)          0         \n",
      "                                                                 \n",
      " flatten_1 (Flatten)         (None, 349500)            0         \n",
      "                                                                 \n",
      " dense_5 (Dense)             (None, 128)               44736128  \n",
      "                                                                 \n",
      " dropout_4 (Dropout)         (None, 128)               0         \n",
      "                                                                 \n",
      " dense_6 (Dense)             (None, 64)                8256      \n",
      "                                                                 \n",
      " dense_7 (Dense)             (None, 32)                2080      \n",
      "                                                                 \n",
      " dropout_5 (Dropout)         (None, 32)                0         \n",
      "                                                                 \n",
      " dense_8 (Dense)             (None, 16)                528       \n",
      "                                                                 \n",
      " dense_9 (Dense)             (None, 5)                 85        \n",
      "                                                                 \n",
      "=================================================================\n",
      "Total params: 45,446,965\n",
      "Trainable params: 45,446,965\n",
      "Non-trainable params: 0\n",
      "_________________________________________________________________\n"
     ]
    }
   ],
   "source": [
    "embedding_vector_length=32\n",
    "num_classes = 5\n",
    "model = Sequential()\n",
    "model.add(Embedding(vocab_size,embedding_vector_length,input_length=X_train.shape[1]))\n",
    "model.add(Bidirectional(LSTM(250,return_sequences=True)))\n",
    "model.add(Dropout(0.2))\n",
    "model.add(Flatten())\n",
    "model.add(Dense(128,activation='relu'))\n",
    "model.add(Dropout(0.2))\n",
    "model.add(Dense(64,activation='relu'))\n",
    "model.add(Dense(32,activation='relu'))\n",
    "model.add(Dropout(0.2))\n",
    "model.add(Dense(16,activation='relu'))\n",
    "model.add(Dense(num_classes,activation='softmax'))\n",
    "\n",
    "model.compile(loss='categorical_crossentropy', optimizer='adam', metrics=['accuracy'])\n",
    "\n",
    "callbacks = [EarlyStopping(monitor='val_loss', patience=5), ModelCheckpoint('../model/model.h5', save_best_only=True, save_weights_only=False)]\n",
    "\n",
    "model.summary()"
   ]
  },
  {
   "cell_type": "code",
   "execution_count": 39,
   "id": "3315d72f",
   "metadata": {},
   "outputs": [
    {
     "name": "stdout",
     "output_type": "stream",
     "text": [
      "Epoch 1/15\n",
      "126/126 [==============================] - 11526s 92s/step - loss: 0.4810 - accuracy: 0.8444 - val_loss: 0.9125 - val_accuracy: 0.7394\n",
      "Epoch 2/15\n",
      "126/126 [==============================] - 15997s 128s/step - loss: 0.3761 - accuracy: 0.8607 - val_loss: 0.9656 - val_accuracy: 0.7273\n",
      "Epoch 3/15\n",
      "126/126 [==============================] - 7071s 56s/step - loss: 0.3204 - accuracy: 0.8811 - val_loss: 1.0717 - val_accuracy: 0.7111\n",
      "Epoch 4/15\n",
      "126/126 [==============================] - 8328s 67s/step - loss: 0.2779 - accuracy: 0.8996 - val_loss: 1.2439 - val_accuracy: 0.6909\n",
      "Epoch 5/15\n",
      "126/126 [==============================] - 2025s 16s/step - loss: 0.2666 - accuracy: 0.9061 - val_loss: 1.2852 - val_accuracy: 0.6949\n",
      "Epoch 6/15\n",
      "126/126 [==============================] - 2135s 17s/step - loss: 0.2403 - accuracy: 0.9186 - val_loss: 1.3867 - val_accuracy: 0.6747\n"
     ]
    }
   ],
   "source": [
    "history = model.fit(X_train, y_train, validation_split=0.11, epochs=15, batch_size=32, verbose=1,callbacks=callbacks)"
   ]
  },
  {
   "cell_type": "code",
   "execution_count": 40,
   "id": "0c5b161f",
   "metadata": {},
   "outputs": [
    {
     "data": {
      "text/plain": [
       "Text(0.5, 1.0, 'Training and Validation accuracy')"
      ]
     },
     "execution_count": 40,
     "metadata": {},
     "output_type": "execute_result"
    },
    {
     "data": {
      "image/png": "[encoded data removed]",
      "text/plain": [
       "<Figure size 640x480 with 1 Axes>"
      ]
     },
     "metadata": {},
     "output_type": "display_data"
    },
    {
     "data": {
      "image/png": "[encoded data removed]",
      "text/plain": [
       "<Figure size 640x480 with 1 Axes>"
      ]
     },
     "metadata": {},
     "output_type": "display_data"
    }
   ],
   "source": [
    "plt.plot(history.history['loss'], label='Training')\n",
    "plt.plot(history.history['val_loss'], label='Validation')\n",
    "plt.legend()\n",
    "plt.title('Training and Validation Loss')\n",
    "plt.figure()\n",
    "\n",
    "plt.plot(history.history['accuracy'],label='Training')\n",
    "plt.plot(history.history['val_accuracy'],label='Validation')\n",
    "plt.legend()\n",
    "plt.title('Training and Validation accuracy')"
   ]
  },
  {
   "cell_type": "markdown",
   "id": "84344029",
   "metadata": {},
   "source": [
    "### We get test Accuracy as 67% "
   ]
  },
  {
   "cell_type": "markdown",
   "id": "37752866",
   "metadata": {},
   "source": [
    "## Testing Text "
   ]
  },
  {
   "cell_type": "code",
   "execution_count": 100,
   "id": "7eab0d79",
   "metadata": {},
   "outputs": [],
   "source": [
    "def prediction(text):\n",
    "    # Clean the text data\n",
    "    cleaned = remove_spaces(text)\n",
    "    cleaned = expand_text(cleaned)\n",
    "    cleaned = handling_accented(cleaned)\n",
    "    cleaned = clean_data(cleaned)\n",
    "    cleaned = lemmatization(cleaned)\n",
    "    \n",
    "    # Tokenize the text data\n",
    "    tokenized = tokenizer.texts_to_sequences([cleaned])\n",
    "    \n",
    "    # Pad the sequence to a fixed length\n",
    "    padded = pad_sequences(tokenized, maxlen=max_length, padding='post')\n",
    "    \n",
    "    # Make the prediction\n",
    "    pred = model.predict(padded)\n",
    "    \n",
    "    print(f\"Predicted ratings:    {int(pred[0][0])}\")\n"
   ]
  },
  {
   "cell_type": "code",
   "execution_count": 101,
   "id": "5e11f1f0",
   "metadata": {},
   "outputs": [
    {
     "name": "stdout",
     "output_type": "stream",
     "text": [
      "1/1 [==============================] - 0s 74ms/step\n",
      "Predicted ratings:    0\n"
     ]
    }
   ],
   "source": [
    "text=\"It is bad product\"\n",
    "\n",
    "prediction(text)"
   ]
  },
  {
   "cell_type": "markdown",
   "id": "8bc3c863",
   "metadata": {},
   "source": [
    "### We tested some text and it correctly predicts the ratings as we encoded the ratings model will give the answer in that encoded format encoding = {1: 0, 2: 1, 3: 2, 4: 3, 5: 4}"
   ]
  }
 ],
 "metadata": {
  "kernelspec": {
   "display_name": "Python 3 (ipykernel)",
   "language": "python",
   "name": "python3"
  },
  "language_info": {
   "codemirror_mode": {
    "name": "ipython",
    "version": 3
   },
   "file_extension": ".py",
   "mimetype": "text/x-python",
   "name": "python",
   "nbconvert_exporter": "python",
   "pygments_lexer": "ipython3",
   "version": "3.10.6"
  }
 },
 "nbformat": 4,
 "nbformat_minor": 5
}
